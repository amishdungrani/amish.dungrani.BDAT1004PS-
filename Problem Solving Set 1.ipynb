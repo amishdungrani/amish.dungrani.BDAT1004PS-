{
 "cells": [
  {
   "cell_type": "markdown",
   "id": "12c4c14d",
   "metadata": {},
   "source": [
    "# Question 1 C#\n",
    "What data type is each of the following?"
   ]
  },
  {
   "cell_type": "markdown",
   "id": "7879bead",
   "metadata": {},
   "source": [
    "5  Integer\n",
    "5.0 Float\n",
    "5 > 1 Boolean\n",
    "'5'  Character\n",
    "5 * 2 Integer\n",
    "'5' * 2 String\n",
    "'5' + '2' String\n",
    "5 / 2 Float\n",
    "5 % 2 Interger\n",
    "{5, 2, 1} Array\n",
    "5 == 3 Boolean\n",
    "Pi (the number) Float"
   ]
  },
  {
   "cell_type": "markdown",
   "id": "d9cd3a4e",
   "metadata": {},
   "source": [
    "# Question 3 C#\n",
    "Implement function triangleArea(a,b,c) that takes as input the lengths of the 3\n",
    "sides of a triangle and returns the area of the triangle. By Heron's formula, the area\n",
    "of a triangle with side lengths a, b, and c is\n",
    "s(s - a)(s -b)(s -c)\n",
    ", where\n",
    "s = (a+b+c)/2.\n",
    ">>> triangleArea(2,2,2)\n",
    "1.7320508075688772"
   ]
  },
  {
   "cell_type": "markdown",
   "id": "6f0e3f35",
   "metadata": {},
   "source": [
    "using System;\n",
    "\n",
    "namespace ConsoleApp1\n",
    "{\n",
    "    class Program\n",
    "    {\n",
    "        public void triangleArea(int a, int b, int c)\n",
    "        {\n",
    "            float s = (a + b + c) / 2;\n",
    "            double withoutRoot = s * (s - a)*(s - b)*(s - c);\n",
    "            double ans = Math.Sqrt(withoutRoot);\n",
    "            Console.WriteLine(\"Area of Triangel : \" + ans);\n",
    "        }\n",
    "        static void Main(string[] args)\n",
    "        {\n",
    "            Program program = new Program();\n",
    "            program.triangleArea(2,2,2);\n",
    "        }\n",
    "    }\n",
    "}\n"
   ]
  },
  {
   "cell_type": "markdown",
   "id": "99594720",
   "metadata": {},
   "source": [
    "# Question 4 C#\n",
    "Write a program in C# Sharp to separate odd and even integers in separate arrays.\n",
    "Go to the editor\n",
    "Test Data :\n",
    "Input the number of elements to be stored in the array :5\n",
    "Input 5 elements in the array :\n",
    "element - 0 : 25\n",
    "element - 1 : 47\n",
    "element - 2 : 42\n",
    "element - 3 : 56\n",
    "element - 4 : 32\n",
    "Expected Output:\n",
    "The Even elements are:\n",
    "42 56 32\n",
    "The Odd elements are :\n",
    "25 47"
   ]
  },
  {
   "cell_type": "markdown",
   "id": "caa09380",
   "metadata": {},
   "source": [
    "using System;\n",
    "\n",
    "namespace ConsoleApp1\n",
    "{\n",
    "    class Program\n",
    "    {\n",
    "        static void Main(string[] args)\n",
    "        {\n",
    "            int j = 0, k = 0;\n",
    "\n",
    "            Console.WriteLine(\"Input the number of elements to be stored in the array : \");\n",
    "            string sizeSTR = Console.ReadLine();\n",
    "            int size = Convert.ToInt32(sizeSTR);\n",
    "\n",
    "            int[] array = new int[size];\n",
    "            for (int i = 0; i < size; i++)\n",
    "            {\n",
    "                Console.WriteLine(\"element - \" + i);\n",
    "                array[i] = Convert.ToInt32(Console.ReadLine());\n",
    "            }\n",
    "\n",
    "            int[] even = new int[size];\n",
    "            int[] odd = new int[size];\n",
    "\n",
    "            foreach (var item in array)\n",
    "            {\n",
    "                if (item % 2 == 0)\n",
    "                {\n",
    "                    even[j] = item;\n",
    "                    j++;\n",
    "                }\n",
    "                else\n",
    "                {\n",
    "                    odd[k] = item;\n",
    "                    k++;\n",
    "                }\n",
    "            }\n",
    "\n",
    "            Console.WriteLine(\"The Even elements are:\");\n",
    "            for (int i = 0; i < j; i++)\n",
    "            {\n",
    "                Console.Write(even[i]);\n",
    "            }\n",
    "\n",
    "            Console.WriteLine(\"The Odd elements are:\");\n",
    "            for (int i = 0; i < k; i++)\n",
    "            {\n",
    "                Console.Write(odd[i]);\n",
    "            }\n",
    "        }\n",
    "    }\n",
    "}\n"
   ]
  },
  {
   "cell_type": "markdown",
   "id": "8b5118ae",
   "metadata": {},
   "source": [
    "# Question 5 C# A.\n",
    "\n",
    "A. Write a function inside(x,y,x1,y1,x2,y2) that returns True or False\n",
    "depending on whether the point (x,y) lies in the rectangle with lower left\n",
    "corner (x1,y1) and upper right corner (x2,y2).\n",
    ">>> inside(1,1,0,0,2,3)\n",
    "True\n",
    ">>> inside(-1,-1,0,0,2,3)\n",
    "False\n"
   ]
  },
  {
   "cell_type": "markdown",
   "id": "dce8c03d",
   "metadata": {},
   "source": [
    "Program A :\n",
    "\n",
    "using System;\n",
    "\n",
    "namespace ConsoleApp1\n",
    "{\n",
    "    class Program\n",
    "    {\n",
    "        static bool checkInside(int x, int y, int x1, int y1, int x2, int y2)\n",
    "        {\n",
    "            if (x > x1 && x < x2 && y>y1 && y<y2)\n",
    "            {\n",
    "                return true;\n",
    "            }\n",
    "            return false;\n",
    "        }\n",
    "        static void Main(string[] args)\n",
    "        {\n",
    "            Console.WriteLine(checkInside(1, 1, 0, 0, 2, 3));\n",
    "            Console.WriteLine(checkInside(-1, -1, 0, 0, 2, 3));\n",
    "        }\n",
    "    }\n",
    "}\n"
   ]
  },
  {
   "cell_type": "markdown",
   "id": "c58627ac",
   "metadata": {},
   "source": [
    "# Question 5 C# B.\n",
    "\n",
    "B.  Use function inside() from part a. to write an expression that tests whether\n",
    "the point (1,1) lies in both of the following rectangles: one with lower left\n",
    "corner (0.3, 0.5) and upper right corner (1.1, 0.7) and the other with lower\n",
    "left corner (0.5, 0.2) and upper right corner (1.1, 2). "
   ]
  },
  {
   "cell_type": "markdown",
   "id": "cc1ab349",
   "metadata": {},
   "source": [
    "Program B:\n",
    "\n",
    "using System;\n",
    "\n",
    "namespace ConsoleApp1\n",
    "{\n",
    "    class Program\n",
    "    {\n",
    "        static bool checkInside(int x, int y, double x1, double y1, double x2, double y2)\n",
    "        {\n",
    "            if (x > x1 && x < x2 && y>y1 && y<y2)\n",
    "            {\n",
    "                return true;\n",
    "            }\n",
    "            return false;\n",
    "        }\n",
    "        static void Main(string[] args)\n",
    "        {\n",
    "            Console.WriteLine(checkInside(1, 1, 0.3, 0.5, 1.1, 0.7));\n",
    "            Console.WriteLine(checkInside(1, 1, 0.5, 0.2, 1.1, 2));\n",
    "        }\n",
    "    }\n",
    "}"
   ]
  },
  {
   "cell_type": "markdown",
   "id": "f5965682",
   "metadata": {},
   "source": [
    "# Question 6 Python"
   ]
  },
  {
   "cell_type": "code",
   "execution_count": 2,
   "id": "aea68ad4",
   "metadata": {},
   "outputs": [
    {
     "name": "stdout",
     "output_type": "stream",
     "text": [
      "appyhay\n",
      "enterway\n"
     ]
    }
   ],
   "source": [
    "def pig(word):\n",
    "  vowels = ('a','e','i','o','u','A','E','I','O','U')\n",
    "  if word.startswith(vowels):\n",
    "    print(word.lower()+'way')\n",
    "  else:\n",
    "    print(word[1:]+word[0].lower()+'ay')\n",
    "\n",
    "pig(\"happy\")\n",
    "pig(\"Enter\")\n"
   ]
  },
  {
   "cell_type": "markdown",
   "id": "04fa3088",
   "metadata": {},
   "source": [
    "# Question 7 Python"
   ]
  },
  {
   "cell_type": "code",
   "execution_count": 4,
   "id": "7ee38a26",
   "metadata": {},
   "outputs": [
    {
     "ename": "SyntaxError",
     "evalue": "invalid syntax (<ipython-input-4-378ae119dbce>, line 1)",
     "output_type": "error",
     "traceback": [
      "\u001b[1;36m  File \u001b[1;32m\"<ipython-input-4-378ae119dbce>\"\u001b[1;36m, line \u001b[1;32m1\u001b[0m\n\u001b[1;33m    def bldcount (bloodtypel);\u001b[0m\n\u001b[1;37m                             ^\u001b[0m\n\u001b[1;31mSyntaxError\u001b[0m\u001b[1;31m:\u001b[0m invalid syntax\n"
     ]
    }
   ],
   "source": [
    "def bldcount (bloodtypel);\n",
    "infile=open(\"bloodtypel.txt\",'r')\n",
    "content= infile.read('r')\n",
    "infile.close()\n",
    "content = content.split()\n",
    "return len(content)\n",
    "\n",
    "for i in bloodtype1:\n",
    "    if content.count(i)==0:\n",
    "        print ('There are no patients of blood type',i+'.')\n",
    "    elif content.count(i)==1:\n",
    "        print('1 patient of blood type',i+'.')\n",
    "    else: print(content.count(i),'patient of blood type',i+'.')"
   ]
  },
  {
   "cell_type": "markdown",
   "id": "faf3ae30",
   "metadata": {},
   "source": [
    "# Question 9 Python "
   ]
  },
  {
   "cell_type": "markdown",
   "id": "3a4ee508",
   "metadata": {},
   "source": [
    "1. Trying to add incompatible variables, as in\n",
    "adding 6 + ‘a’\n",
    "\n",
    "=> SyntaxError: invalid character in identifier\n",
    "\n",
    "2. Referring to the 12th item of a list that has only 10\n",
    "items\n",
    "\n",
    "=> IndexError: list index out of range\n",
    "\n",
    "3. Using a value that is out of range for a function’s\n",
    "input, such as calling math.sqrt(-1.0)\n",
    "\n",
    "=> ValueError: math domain error\n",
    "\n",
    "4. Using an undeclared variable, such as print(x)\n",
    "when x has not been defined\n",
    "\n",
    "=> NameError: name 'x' is not defined\n",
    "\n",
    "5. Trying to open a file that does not exist, such as\n",
    "mistyping the file name or looking in the wrong\n",
    "directory.\n",
    "\n",
    "=> FileNotFoundError"
   ]
  }
 ],
 "metadata": {
  "kernelspec": {
   "display_name": "Python 3",
   "language": "python",
   "name": "python3"
  },
  "language_info": {
   "codemirror_mode": {
    "name": "ipython",
    "version": 3
   },
   "file_extension": ".py",
   "mimetype": "text/x-python",
   "name": "python",
   "nbconvert_exporter": "python",
   "pygments_lexer": "ipython3",
   "version": "3.8.8"
  }
 },
 "nbformat": 4,
 "nbformat_minor": 5
}
